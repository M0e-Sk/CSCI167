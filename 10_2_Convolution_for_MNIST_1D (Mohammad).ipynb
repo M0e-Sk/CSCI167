{
  "cells": [
    {
      "cell_type": "markdown",
      "metadata": {
        "colab_type": "text",
        "id": "view-in-github"
      },
      "source": [
        "<a href=\"https://colab.research.google.com/github/Jonny55921/CSCI-167/blob/main/10_2_Convolution_for_MNIST_1D.ipynb\" target=\"_parent\"><img src=\"https://colab.research.google.com/assets/colab-badge.svg\" alt=\"Open In Colab\"/></a>"
      ]
    },
    {
      "cell_type": "markdown",
      "metadata": {
        "id": "t9vk9Elugvmi"
      },
      "source": [
        "# **Notebook 10.2: Convolution for MNIST-1D**\n",
        "\n",
        "This notebook investigates a 1D convolutional network for MNIST-1D as in figure 10.7 and 10.8a.\n",
        "\n",
        "Work through the cells below, running each cell in turn. In various places you will see the words \"TO DO\". Follow the instructions at these places and make predictions about what is going to happen or write code to complete the functions.\n",
        "\n",
        "Contact me at udlbookmail@gmail.com if you find any mistakes or have any suggestions.\n",
        "\n"
      ]
    },
    {
      "cell_type": "code",
      "execution_count": null,
      "metadata": {
        "colab": {
          "base_uri": "https://localhost:8080/"
        },
        "id": "D5yLObtZCi9J",
        "outputId": "4c7d9814-36a0-4e17-af86-60dba1794f12"
      },
      "outputs": [
        {
          "name": "stdout",
          "output_type": "stream",
          "text": [
            "Collecting git+https://github.com/greydanus/mnist1d\n",
            "  Cloning https://github.com/greydanus/mnist1d to /tmp/pip-req-build-00d00zgq\n",
            "  Running command git clone --filter=blob:none --quiet https://github.com/greydanus/mnist1d /tmp/pip-req-build-00d00zgq\n",
            "  Resolved https://github.com/greydanus/mnist1d to commit 7878d96082abd200c546a07a4101fa90b30fdf7e\n",
            "  Installing build dependencies ... \u001b[?25l\u001b[?25hdone\n",
            "  Getting requirements to build wheel ... \u001b[?25l\u001b[?25hdone\n",
            "  Preparing metadata (pyproject.toml) ... \u001b[?25l\u001b[?25hdone\n",
            "Requirement already satisfied: requests in /usr/local/lib/python3.10/dist-packages (from mnist1d==0.0.2.post16) (2.32.3)\n",
            "Requirement already satisfied: numpy in /usr/local/lib/python3.10/dist-packages (from mnist1d==0.0.2.post16) (1.26.4)\n",
            "Requirement already satisfied: matplotlib in /usr/local/lib/python3.10/dist-packages (from mnist1d==0.0.2.post16) (3.7.1)\n",
            "Requirement already satisfied: scipy in /usr/local/lib/python3.10/dist-packages (from mnist1d==0.0.2.post16) (1.13.1)\n",
            "Requirement already satisfied: contourpy>=1.0.1 in /usr/local/lib/python3.10/dist-packages (from matplotlib->mnist1d==0.0.2.post16) (1.3.0)\n",
            "Requirement already satisfied: cycler>=0.10 in /usr/local/lib/python3.10/dist-packages (from matplotlib->mnist1d==0.0.2.post16) (0.12.1)\n",
            "Requirement already satisfied: fonttools>=4.22.0 in /usr/local/lib/python3.10/dist-packages (from matplotlib->mnist1d==0.0.2.post16) (4.54.1)\n",
            "Requirement already satisfied: kiwisolver>=1.0.1 in /usr/local/lib/python3.10/dist-packages (from matplotlib->mnist1d==0.0.2.post16) (1.4.7)\n",
            "Requirement already satisfied: packaging>=20.0 in /usr/local/lib/python3.10/dist-packages (from matplotlib->mnist1d==0.0.2.post16) (24.1)\n",
            "Requirement already satisfied: pillow>=6.2.0 in /usr/local/lib/python3.10/dist-packages (from matplotlib->mnist1d==0.0.2.post16) (10.4.0)\n",
            "Requirement already satisfied: pyparsing>=2.3.1 in /usr/local/lib/python3.10/dist-packages (from matplotlib->mnist1d==0.0.2.post16) (3.2.0)\n",
            "Requirement already satisfied: python-dateutil>=2.7 in /usr/local/lib/python3.10/dist-packages (from matplotlib->mnist1d==0.0.2.post16) (2.8.2)\n",
            "Requirement already satisfied: charset-normalizer<4,>=2 in /usr/local/lib/python3.10/dist-packages (from requests->mnist1d==0.0.2.post16) (3.4.0)\n",
            "Requirement already satisfied: idna<4,>=2.5 in /usr/local/lib/python3.10/dist-packages (from requests->mnist1d==0.0.2.post16) (3.10)\n",
            "Requirement already satisfied: urllib3<3,>=1.21.1 in /usr/local/lib/python3.10/dist-packages (from requests->mnist1d==0.0.2.post16) (2.2.3)\n",
            "Requirement already satisfied: certifi>=2017.4.17 in /usr/local/lib/python3.10/dist-packages (from requests->mnist1d==0.0.2.post16) (2024.8.30)\n",
            "Requirement already satisfied: six>=1.5 in /usr/local/lib/python3.10/dist-packages (from python-dateutil>=2.7->matplotlib->mnist1d==0.0.2.post16) (1.16.0)\n",
            "Building wheels for collected packages: mnist1d\n",
            "  Building wheel for mnist1d (pyproject.toml) ... \u001b[?25l\u001b[?25hdone\n",
            "  Created wheel for mnist1d: filename=mnist1d-0.0.2.post16-py3-none-any.whl size=14624 sha256=1476c99440c84cd45783cbfd7ee851ae5e8efde2bfdfe519af4364061d2cdf63\n",
            "  Stored in directory: /tmp/pip-ephem-wheel-cache-h0pow_6h/wheels/41/95/55/45fcf7d38cfa97e35682da6c5017d4513729131326ce935371\n",
            "Successfully built mnist1d\n",
            "Installing collected packages: mnist1d\n",
            "Successfully installed mnist1d-0.0.2.post16\n"
          ]
        }
      ],
      "source": [
        "# Run this if you're in a Colab to install MNIST 1D repository\n",
        "!pip install git+https://github.com/greydanus/mnist1d"
      ]
    },
    {
      "cell_type": "code",
      "execution_count": null,
      "metadata": {
        "id": "YrXWAH7sUWvU"
      },
      "outputs": [],
      "source": [
        "import numpy as np\n",
        "import os\n",
        "import torch, torch.nn as nn\n",
        "from torch.utils.data import TensorDataset, DataLoader\n",
        "from torch.optim.lr_scheduler import StepLR\n",
        "import matplotlib.pyplot as plt\n",
        "import mnist1d\n",
        "import random"
      ]
    },
    {
      "cell_type": "code",
      "execution_count": null,
      "metadata": {
        "colab": {
          "base_uri": "https://localhost:8080/"
        },
        "id": "twI72ZCrCt5z",
        "outputId": "8194cd4d-81f3-48d4-f792-d7a9c8e9b4bd"
      },
      "outputs": [
        {
          "name": "stdout",
          "output_type": "stream",
          "text": [
            "Did or could not load data from ./mnist1d_data.pkl. Rebuilding dataset...\n",
            "Examples in training set: 4000\n",
            "Examples in test set: 1000\n",
            "Length of each example: 40\n"
          ]
        }
      ],
      "source": [
        "args = mnist1d.data.get_dataset_args()\n",
        "data = mnist1d.data.get_dataset(args, path='./mnist1d_data.pkl', download=False, regenerate=False)\n",
        "\n",
        "# The training and test input and outputs are in\n",
        "# data['x'], data['y'], data['x_test'], and data['y_test']\n",
        "print(\"Examples in training set: {}\".format(len(data['y'])))\n",
        "print(\"Examples in test set: {}\".format(len(data['y_test'])))\n",
        "print(\"Length of each example: {}\".format(data['x'].shape[-1]))"
      ]
    },
    {
      "cell_type": "code",
      "execution_count": null,
      "metadata": {
        "colab": {
          "base_uri": "https://localhost:8080/"
        },
        "id": "8bKADvLHbiV5",
        "outputId": "787ea4ac-224b-4082-e5da-166304d86472"
      },
      "outputs": [
        {
          "name": "stdout",
          "output_type": "stream",
          "text": [
            "Train data: 4000 examples (columns), each of which has 40 dimensions (rows)\n",
            "Validation data: 1000 examples (columns), each of which has 40 dimensions (rows)\n"
          ]
        }
      ],
      "source": [
        "# Load in the data\n",
        "train_data_x = data['x'].transpose()\n",
        "train_data_y = data['y']\n",
        "val_data_x = data['x_test'].transpose()\n",
        "val_data_y = data['y_test']\n",
        "# Print out sizes\n",
        "print(\"Train data: %d examples (columns), each of which has %d dimensions (rows)\"%((train_data_x.shape[1],train_data_x.shape[0])))\n",
        "print(\"Validation data: %d examples (columns), each of which has %d dimensions (rows)\"%((val_data_x.shape[1],val_data_x.shape[0])))"
      ]
    },
    {
      "cell_type": "markdown",
      "metadata": {
        "id": "_sFvRDGrl4qe"
      },
      "source": [
        "Define the network"
      ]
    },
    {
      "cell_type": "code",
      "execution_count": null,
      "metadata": {
        "id": "FslroPJJffrh"
      },
      "outputs": [],
      "source": [
        "# There are 40 input dimensions and 10 output dimensions for this data\n",
        "# The inputs correspond to the 40 offsets in the MNIST1D template.\n",
        "D_i = 40\n",
        "# The outputs correspond to the 10 digits\n",
        "D_o = 10\n",
        "\n",
        "\n",
        "# TODO Create a model with the following layers\n",
        "# 1. Convolutional layer, (input=length 40 and 1 channel, kernel size 3, stride 2, padding=\"valid\", 15 output channels )\n",
        "# 2. ReLU\n",
        "# 3. Convolutional layer, (input=length 19 and 15 channels, kernel size 3, stride 2, padding=\"valid\", 15 output channels )\n",
        "# 4. ReLU\n",
        "# 5. Convolutional layer, (input=length 9 and 15 channels, kernel size 3, stride 2, padding=\"valid\", 15 output channels)\n",
        "# 6. ReLU\n",
        "# 7. Flatten (converts 4x15) to length 60\n",
        "# 8. Linear layer (input size = 60, output size = 10)\n",
        "# References:\n",
        "# https://pytorch.org/docs/1.13/generated/torch.nn.Conv1d.html?highlight=conv1d#torch.nn.Conv1d\n",
        "# https://pytorch.org/docs/stable/generated/torch.nn.Flatten.html\n",
        "# https://pytorch.org/docs/1.13/generated/torch.nn.Linear.html?highlight=linear#torch.nn.Linear\n",
        "\n",
        "# NOTE THAT THE CONVOLUTIONAL LAYERS NEED TO TAKE THE NUMBER OF INPUT CHANNELS AS A PARAMETER\n",
        "# AND NOT THE INPUT SIZE.\n",
        "\n",
        "# Replace the following function:\n",
        "model = nn.Sequential(\n",
        "    # First Convolutional Layer\n",
        "    nn.Conv1d(in_channels=1, out_channels=15, kernel_size=3, stride=2, padding=0),\n",
        "    nn.ReLU(),\n",
        "    \n",
        "    # Second Convolutional Layer\n",
        "    nn.Conv1d(in_channels=15, out_channels=15, kernel_size=3, stride=2, padding=0),\n",
        "    nn.ReLU(),\n",
        "    \n",
        "    # Third Convolutional Layer\n",
        "    nn.Conv1d(in_channels=15, out_channels=15, kernel_size=3, stride=2, padding=0),\n",
        "    nn.ReLU(),\n",
        "    \n",
        "    # Flatten layer to prepare for fully connected layer\n",
        "    nn.Flatten(),\n",
        "    \n",
        "    # Fully connected Linear layer\n",
        "    nn.Linear(4 * 15, 10)  \n",
        ")\n",
        "print(model)\n"
      ]
    },
    {
      "cell_type": "code",
      "execution_count": null,
      "metadata": {
        "id": "YgLaex1pfhqz"
      },
      "outputs": [],
      "source": [
        "# He initialization of weights\n",
        "def weights_init(layer_in):\n",
        "  if isinstance(layer_in, nn.Linear):\n",
        "    nn.init.kaiming_uniform_(layer_in.weight)\n",
        "    layer_in.bias.data.fill_(0.0)"
      ]
    },
    {
      "cell_type": "code",
      "execution_count": null,
      "metadata": {
        "colab": {
          "base_uri": "https://localhost:8080/",
          "height": 1000
        },
        "id": "NYw8I_3mmX5c",
        "outputId": "fc767047-d21d-476c-ac2b-664425a54e9b"
      },
      "outputs": [
        {
          "name": "stdout",
          "output_type": "stream",
          "text": [
            "Epoch     0, train loss 2.072853, train error 78.10,  val loss 2.070308, percent error 79.40\n",
            "Epoch     1, train loss 1.603679, train error 61.70,  val loss 1.616179, percent error 63.20\n",
            "Epoch     2, train loss 1.377822, train error 55.12,  val loss 1.402054, percent error 58.10\n",
            "Epoch     3, train loss 1.371316, train error 54.80,  val loss 1.386290, percent error 56.80\n",
            "Epoch     4, train loss 1.226050, train error 50.90,  val loss 1.275130, percent error 56.90\n",
            "Epoch     5, train loss 1.087566, train error 44.65,  val loss 1.114170, percent error 48.10\n",
            "Epoch     6, train loss 0.996193, train error 40.08,  val loss 1.046809, percent error 44.40\n",
            "Epoch     7, train loss 0.971173, train error 39.92,  val loss 1.016830, percent error 42.90\n",
            "Epoch     8, train loss 0.868314, train error 34.75,  val loss 0.921123, percent error 37.80\n",
            "Epoch     9, train loss 0.775464, train error 30.45,  val loss 0.854198, percent error 34.70\n",
            "Epoch    10, train loss 0.754707, train error 30.60,  val loss 0.827834, percent error 31.80\n",
            "Epoch    11, train loss 0.644408, train error 24.65,  val loss 0.716549, percent error 27.90\n",
            "Epoch    12, train loss 0.575404, train error 21.38,  val loss 0.673350, percent error 24.80\n",
            "Epoch    13, train loss 0.515933, train error 19.78,  val loss 0.598462, percent error 23.30\n",
            "Epoch    14, train loss 0.535490, train error 20.12,  val loss 0.605558, percent error 22.20\n",
            "Epoch    15, train loss 0.433888, train error 15.60,  val loss 0.501730, percent error 18.70\n",
            "Epoch    16, train loss 0.464578, train error 17.43,  val loss 0.564992, percent error 20.80\n",
            "Epoch    17, train loss 0.360776, train error 13.85,  val loss 0.469469, percent error 17.40\n",
            "Epoch    18, train loss 0.382378, train error 14.43,  val loss 0.500839, percent error 15.40\n",
            "Epoch    19, train loss 0.344998, train error 12.43,  val loss 0.434447, percent error 15.70\n",
            "Epoch    20, train loss 0.249013, train error 9.05,  val loss 0.358657, percent error 11.90\n",
            "Epoch    21, train loss 0.232378, train error 7.75,  val loss 0.373111, percent error 13.70\n",
            "Epoch    22, train loss 0.217448, train error 7.72,  val loss 0.366749, percent error 12.60\n",
            "Epoch    23, train loss 0.192853, train error 6.70,  val loss 0.333811, percent error 11.20\n",
            "Epoch    24, train loss 0.177638, train error 5.93,  val loss 0.336937, percent error 10.10\n",
            "Epoch    25, train loss 0.174288, train error 6.18,  val loss 0.332265, percent error 10.60\n",
            "Epoch    26, train loss 0.181870, train error 6.68,  val loss 0.352664, percent error 12.00\n",
            "Epoch    27, train loss 0.184065, train error 6.03,  val loss 0.352912, percent error 11.00\n",
            "Epoch    28, train loss 0.168341, train error 5.85,  val loss 0.328079, percent error 10.30\n",
            "Epoch    29, train loss 0.180849, train error 6.68,  val loss 0.397423, percent error 13.30\n",
            "Epoch    30, train loss 0.160777, train error 5.75,  val loss 0.367236, percent error 11.10\n",
            "Epoch    31, train loss 0.151963, train error 5.45,  val loss 0.346263, percent error 9.90\n",
            "Epoch    32, train loss 0.129048, train error 4.60,  val loss 0.324865, percent error 9.70\n",
            "Epoch    33, train loss 0.120720, train error 3.90,  val loss 0.313337, percent error 10.30\n",
            "Epoch    34, train loss 0.138618, train error 5.00,  val loss 0.326320, percent error 10.60\n",
            "Epoch    35, train loss 0.136400, train error 4.82,  val loss 0.328976, percent error 10.40\n",
            "Epoch    36, train loss 0.129082, train error 4.50,  val loss 0.330263, percent error 10.10\n",
            "Epoch    37, train loss 0.112959, train error 3.47,  val loss 0.345769, percent error 10.80\n",
            "Epoch    38, train loss 0.106957, train error 3.60,  val loss 0.320292, percent error 10.70\n",
            "Epoch    39, train loss 0.098724, train error 3.22,  val loss 0.324912, percent error 9.00\n",
            "Epoch    40, train loss 0.089795, train error 2.75,  val loss 0.303999, percent error 8.80\n",
            "Epoch    41, train loss 0.082636, train error 2.35,  val loss 0.307089, percent error 9.70\n",
            "Epoch    42, train loss 0.094474, train error 3.47,  val loss 0.320442, percent error 10.20\n",
            "Epoch    43, train loss 0.079710, train error 2.43,  val loss 0.310055, percent error 9.00\n",
            "Epoch    44, train loss 0.075969, train error 2.12,  val loss 0.324299, percent error 9.90\n",
            "Epoch    45, train loss 0.082362, train error 2.55,  val loss 0.306986, percent error 8.70\n",
            "Epoch    46, train loss 0.077841, train error 2.47,  val loss 0.305693, percent error 8.40\n",
            "Epoch    47, train loss 0.071702, train error 1.95,  val loss 0.308358, percent error 9.00\n",
            "Epoch    48, train loss 0.095345, train error 3.53,  val loss 0.343543, percent error 10.50\n",
            "Epoch    49, train loss 0.071918, train error 1.95,  val loss 0.329695, percent error 9.50\n",
            "Epoch    50, train loss 0.065972, train error 1.70,  val loss 0.323341, percent error 8.90\n",
            "Epoch    51, train loss 0.073691, train error 2.22,  val loss 0.327994, percent error 10.20\n",
            "Epoch    52, train loss 0.067211, train error 1.88,  val loss 0.336906, percent error 9.10\n",
            "Epoch    53, train loss 0.065537, train error 2.00,  val loss 0.332482, percent error 9.40\n",
            "Epoch    54, train loss 0.072733, train error 2.50,  val loss 0.329516, percent error 9.70\n",
            "Epoch    55, train loss 0.059383, train error 1.38,  val loss 0.321186, percent error 9.50\n",
            "Epoch    56, train loss 0.059863, train error 1.68,  val loss 0.324436, percent error 9.60\n",
            "Epoch    57, train loss 0.062713, train error 2.00,  val loss 0.329455, percent error 9.00\n",
            "Epoch    58, train loss 0.058769, train error 1.70,  val loss 0.336694, percent error 8.70\n",
            "Epoch    59, train loss 0.062616, train error 1.72,  val loss 0.345179, percent error 9.10\n",
            "Epoch    60, train loss 0.053067, train error 1.15,  val loss 0.339973, percent error 9.00\n",
            "Epoch    61, train loss 0.051562, train error 1.32,  val loss 0.332859, percent error 8.60\n",
            "Epoch    62, train loss 0.052001, train error 1.22,  val loss 0.336590, percent error 9.60\n",
            "Epoch    63, train loss 0.050957, train error 1.12,  val loss 0.334354, percent error 9.10\n",
            "Epoch    64, train loss 0.049416, train error 1.12,  val loss 0.335041, percent error 8.80\n",
            "Epoch    65, train loss 0.050480, train error 1.10,  val loss 0.341434, percent error 9.20\n",
            "Epoch    66, train loss 0.048825, train error 1.07,  val loss 0.339719, percent error 8.60\n",
            "Epoch    67, train loss 0.048198, train error 0.95,  val loss 0.340312, percent error 8.60\n",
            "Epoch    68, train loss 0.047969, train error 1.00,  val loss 0.343478, percent error 8.80\n",
            "Epoch    69, train loss 0.047193, train error 1.03,  val loss 0.341619, percent error 9.30\n",
            "Epoch    70, train loss 0.048037, train error 1.10,  val loss 0.351151, percent error 9.30\n",
            "Epoch    71, train loss 0.046914, train error 1.00,  val loss 0.346022, percent error 9.00\n",
            "Epoch    72, train loss 0.046800, train error 1.00,  val loss 0.350656, percent error 9.60\n",
            "Epoch    73, train loss 0.045824, train error 0.93,  val loss 0.347494, percent error 9.10\n",
            "Epoch    74, train loss 0.048349, train error 1.03,  val loss 0.358580, percent error 9.50\n",
            "Epoch    75, train loss 0.046804, train error 0.88,  val loss 0.347280, percent error 9.00\n",
            "Epoch    76, train loss 0.046392, train error 1.05,  val loss 0.356867, percent error 9.40\n",
            "Epoch    77, train loss 0.044037, train error 1.00,  val loss 0.349077, percent error 8.90\n",
            "Epoch    78, train loss 0.044705, train error 1.03,  val loss 0.351370, percent error 9.00\n",
            "Epoch    79, train loss 0.043676, train error 0.80,  val loss 0.348550, percent error 9.00\n",
            "Epoch    80, train loss 0.041483, train error 0.82,  val loss 0.349542, percent error 8.80\n",
            "Epoch    81, train loss 0.042298, train error 0.75,  val loss 0.350801, percent error 8.80\n",
            "Epoch    82, train loss 0.042031, train error 0.85,  val loss 0.356091, percent error 9.30\n",
            "Epoch    83, train loss 0.042423, train error 0.90,  val loss 0.356010, percent error 9.20\n",
            "Epoch    84, train loss 0.041901, train error 0.72,  val loss 0.350204, percent error 8.90\n",
            "Epoch    85, train loss 0.040579, train error 0.78,  val loss 0.352532, percent error 8.80\n",
            "Epoch    86, train loss 0.040522, train error 0.80,  val loss 0.351383, percent error 8.70\n",
            "Epoch    87, train loss 0.040093, train error 0.72,  val loss 0.353886, percent error 8.80\n",
            "Epoch    88, train loss 0.039995, train error 0.80,  val loss 0.355842, percent error 9.20\n",
            "Epoch    89, train loss 0.039649, train error 0.70,  val loss 0.352750, percent error 8.70\n",
            "Epoch    90, train loss 0.039342, train error 0.75,  val loss 0.355269, percent error 8.90\n",
            "Epoch    91, train loss 0.039723, train error 0.78,  val loss 0.358548, percent error 9.50\n",
            "Epoch    92, train loss 0.039130, train error 0.72,  val loss 0.356429, percent error 8.90\n",
            "Epoch    93, train loss 0.038811, train error 0.75,  val loss 0.357326, percent error 8.90\n",
            "Epoch    94, train loss 0.039691, train error 0.70,  val loss 0.355990, percent error 8.70\n",
            "Epoch    95, train loss 0.039153, train error 0.68,  val loss 0.355604, percent error 8.80\n",
            "Epoch    96, train loss 0.038286, train error 0.70,  val loss 0.358259, percent error 8.90\n",
            "Epoch    97, train loss 0.038294, train error 0.72,  val loss 0.358709, percent error 8.70\n",
            "Epoch    98, train loss 0.038069, train error 0.75,  val loss 0.360991, percent error 8.80\n",
            "Epoch    99, train loss 0.037684, train error 0.75,  val loss 0.360241, percent error 8.80\n"
          ]
        },
        {
          "data": {
            "image/png": "[encoded data removed]",
            "text/plain": [
              "<Figure size 640x480 with 1 Axes>"
            ]
          },
          "metadata": {},
          "output_type": "display_data"
        }
      ],
      "source": [
        "# choose cross entropy loss function (equation 5.24 in the loss notes)\n",
        "loss_function = nn.CrossEntropyLoss()\n",
        "# construct SGD optimizer and initialize learning rate and momentum\n",
        "optimizer = torch.optim.SGD(model.parameters(), lr = 0.05, momentum=0.9)\n",
        "# object that decreases learning rate by half every 20 epochs\n",
        "scheduler = StepLR(optimizer, step_size=20, gamma=0.5)\n",
        "# create 100 dummy data points and store in data loader class\n",
        "x_train = torch.tensor(train_data_x.transpose().astype('float32'))\n",
        "y_train = torch.tensor(train_data_y.astype('long')).long()\n",
        "x_val= torch.tensor(val_data_x.transpose().astype('float32'))\n",
        "y_val = torch.tensor(val_data_y.astype('long')).long()\n",
        "\n",
        "# load the data into a class that creates the batches\n",
        "data_loader = DataLoader(TensorDataset(x_train,y_train), batch_size=100, shuffle=True, worker_init_fn=np.random.seed(1))\n",
        "\n",
        "# Initialize model weights\n",
        "model.apply(weights_init)\n",
        "\n",
        "# loop over the dataset n_epoch times\n",
        "n_epoch = 100\n",
        "# store the loss and the % correct at each epoch\n",
        "losses_train = np.zeros((n_epoch))\n",
        "errors_train = np.zeros((n_epoch))\n",
        "losses_val = np.zeros((n_epoch))\n",
        "errors_val = np.zeros((n_epoch))\n",
        "\n",
        "for epoch in range(n_epoch):\n",
        "  # loop over batches\n",
        "  for i, data in enumerate(data_loader):\n",
        "    # retrieve inputs and labels for this batch\n",
        "    x_batch, y_batch = data\n",
        "    # zero the parameter gradients\n",
        "    optimizer.zero_grad()\n",
        "    # forward pass -- calculate model output\n",
        "    pred = model(x_batch[:,None,:])\n",
        "    # compute the loss\n",
        "    loss = loss_function(pred, y_batch)\n",
        "    # backward pass\n",
        "    loss.backward()\n",
        "    # SGD update\n",
        "    optimizer.step()\n",
        "\n",
        "  # Run whole dataset to get statistics -- normally wouldn't do this\n",
        "  pred_train = model(x_train[:,None,:])\n",
        "  pred_val = model(x_val[:,None,:])\n",
        "  _, predicted_train_class = torch.max(pred_train.data, 1)\n",
        "  _, predicted_val_class = torch.max(pred_val.data, 1)\n",
        "  errors_train[epoch] = 100 - 100 * (predicted_train_class == y_train).float().sum() / len(y_train)\n",
        "  errors_val[epoch]= 100 - 100 * (predicted_val_class == y_val).float().sum() / len(y_val)\n",
        "  losses_train[epoch] = loss_function(pred_train, y_train).item()\n",
        "  losses_val[epoch]= loss_function(pred_val, y_val).item()\n",
        "  print(f'Epoch {epoch:5d}, train loss {losses_train[epoch]:.6f}, train error {errors_train[epoch]:3.2f},  val loss {losses_val[epoch]:.6f}, percent error {errors_val[epoch]:3.2f}')\n",
        "\n",
        "  # tell scheduler to consider updating learning rate\n",
        "  scheduler.step()\n",
        "\n",
        "# Plot the results\n",
        "fig, ax = plt.subplots()\n",
        "ax.plot(errors_train,'r-',label='train')\n",
        "ax.plot(errors_val,'b-',label='validation')\n",
        "ax.set_ylim(0,100); ax.set_xlim(0,n_epoch)\n",
        "ax.set_xlabel('Epoch'); ax.set_ylabel('Error')\n",
        "ax.set_title('Part I: Validation Result %3.2f'%(errors_val[-1]))\n",
        "ax.legend()\n",
        "plt.show()"
      ]
    }
  ],
  "metadata": {
    "colab": {
      "include_colab_link": true,
      "provenance": []
    },
    "kernelspec": {
      "display_name": "Python 3",
      "name": "python3"
    },
    "language_info": {
      "name": "python"
    }
  },
  "nbformat": 4,
  "nbformat_minor": 0
}
